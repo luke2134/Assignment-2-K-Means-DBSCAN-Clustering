{
  "nbformat": 4,
  "nbformat_minor": 0,
  "metadata": {
    "colab": {
      "provenance": [],
      "authorship_tag": "ABX9TyN5HB3LJ1wdgRuFGpnlm9oH",
      "include_colab_link": true
    },
    "kernelspec": {
      "name": "python3",
      "display_name": "Python 3"
    },
    "language_info": {
      "name": "python"
    }
  },
  "cells": [
    {
      "cell_type": "markdown",
      "metadata": {
        "id": "view-in-github",
        "colab_type": "text"
      },
      "source": [
        "<a href=\"https://colab.research.google.com/github/luke2134/Assignment-2-K-Means-DBSCAN-Clustering/blob/main/Delete%20K-Means%20%26%20DBSCAN%20Clustering%20on%20the%20Olivetti%20Faces%20Dataset.ipynb\" target=\"_parent\"><img src=\"https://colab.research.google.com/assets/colab-badge.svg\" alt=\"Open In Colab\"/></a>"
      ]
    },
    {
      "cell_type": "markdown",
      "source": [
        "# **Assignment 2: K-Means & DBSCAN Clustering**"
      ],
      "metadata": {
        "id": "3zynANhU_xJH"
      }
    },
    {
      "cell_type": "markdown",
      "source": [
        "**Step 1: Retrieve and Load the Olivetti Faces Dataset**"
      ],
      "metadata": {
        "id": "LoPiqszZ_TMT"
      }
    },
    {
      "cell_type": "code",
      "execution_count": 1,
      "metadata": {
        "colab": {
          "base_uri": "https://localhost:8080/"
        },
        "id": "Qg7TCOne_O-R",
        "outputId": "42ee0254-1ba5-4b49-ed37-6b8210d476bc"
      },
      "outputs": [
        {
          "output_type": "stream",
          "name": "stdout",
          "text": [
            "downloading Olivetti faces from https://ndownloader.figshare.com/files/5976027 to /root/scikit_learn_data\n",
            "Data shape: (400, 4096)\n",
            "Number of unique individuals: 40\n"
          ]
        }
      ],
      "source": [
        "from sklearn.datasets import fetch_olivetti_faces\n",
        "\n",
        "# Load the Olivetti faces dataset\n",
        "data = fetch_olivetti_faces(shuffle=True, random_state=42)\n",
        "X = data.data\n",
        "y = data.target\n",
        "\n",
        "print(\"Data shape:\", X.shape)\n",
        "print(\"Number of unique individuals:\", len(set(y)))\n"
      ]
    },
    {
      "cell_type": "markdown",
      "source": [
        "**Step 2: Split the Dataset into Training, Validation, and Test Sets**"
      ],
      "metadata": {
        "id": "LYNLXis6_Yoy"
      }
    },
    {
      "cell_type": "code",
      "source": [
        "from sklearn.model_selection import train_test_split\n",
        "\n",
        "# Split the data into 60% training, 20% validation, and 20% testing\n",
        "X_train, X_temp, y_train, y_temp = train_test_split(X, y, test_size=0.4, stratify=y, random_state=42)\n",
        "X_val, X_test, y_val, y_test = train_test_split(X_temp, y_temp, test_size=0.5, stratify=y_temp, random_state=42)\n",
        "\n",
        "print(\"Training set shape:\", X_train.shape)\n",
        "print(\"Validation set shape:\", X_val.shape)\n",
        "print(\"Test set shape:\", X_test.shape)\n"
      ],
      "metadata": {
        "colab": {
          "base_uri": "https://localhost:8080/"
        },
        "id": "LkEJ_4zi_msq",
        "outputId": "0037de22-18b6-46bf-861c-048b0d1527e6"
      },
      "execution_count": 2,
      "outputs": [
        {
          "output_type": "stream",
          "name": "stdout",
          "text": [
            "Training set shape: (240, 4096)\n",
            "Validation set shape: (80, 4096)\n",
            "Test set shape: (80, 4096)\n"
          ]
        }
      ]
    },
    {
      "cell_type": "markdown",
      "source": [
        "**Step 3: Train a Classifier Using k-Fold Cross-Validation**"
      ],
      "metadata": {
        "id": "1h287U_k_YmJ"
      }
    },
    {
      "cell_type": "code",
      "source": [
        "from sklearn.model_selection import cross_val_score\n",
        "from sklearn.svm import SVC\n",
        "\n",
        "# Initialize an SVM classifier\n",
        "svm_clf = SVC(kernel='linear', random_state=42)\n",
        "\n",
        "# Perform 5-fold cross-validation on the training set\n",
        "cv_scores = cross_val_score(svm_clf, X_train, y_train, cv=5, scoring='accuracy')\n",
        "\n",
        "print(\"Cross-validation accuracy scores:\", cv_scores)\n",
        "print(\"Mean CV accuracy:\", cv_scores.mean())\n"
      ],
      "metadata": {
        "colab": {
          "base_uri": "https://localhost:8080/"
        },
        "id": "6Uc5X7Do_ncw",
        "outputId": "bbf79399-e1d3-43ea-b7c2-0e235a6e035d"
      },
      "execution_count": 3,
      "outputs": [
        {
          "output_type": "stream",
          "name": "stdout",
          "text": [
            "Cross-validation accuracy scores: [0.875      0.875      0.97916667 0.9375     0.95833333]\n",
            "Mean CV accuracy: 0.925\n"
          ]
        }
      ]
    },
    {
      "cell_type": "markdown",
      "source": [
        "**Step 4: Use K-Means for Dimensionality Reduction**"
      ],
      "metadata": {
        "id": "zxLWkKtl_Yjg"
      }
    },
    {
      "cell_type": "code",
      "source": [
        "from sklearn.cluster import KMeans\n",
        "from sklearn.metrics import silhouette_score\n",
        "\n",
        "# Evaluate silhouette score for different numbers of clusters\n",
        "n_clusters_to_try = 10\n",
        "silhouette_scores = []\n",
        "for k in range(2, 21):\n",
        "    kmeans = KMeans(n_clusters=k, random_state=42)\n",
        "    kmeans.fit(X_train)\n",
        "    score = silhouette_score(X_train, kmeans.labels_)\n",
        "    silhouette_scores.append(score)\n",
        "    print(f\"Number of clusters: {k}, Silhouette score: {score}\")\n",
        "\n",
        "optimal_k = silhouette_scores.index(max(silhouette_scores)) + 2\n",
        "print(\"Optimal number of clusters:\", optimal_k)\n",
        "\n",
        "kmeans = KMeans(n_clusters=optimal_k, random_state=42)\n",
        "X_train_reduced = kmeans.fit_transform(X_train)\n",
        "X_val_reduced = kmeans.transform(X_val)\n",
        "X_test_reduced = kmeans.transform(X_test)\n"
      ],
      "metadata": {
        "colab": {
          "base_uri": "https://localhost:8080/"
        },
        "id": "rGeYwNS7_n6C",
        "outputId": "ae6f8d9f-025e-4875-f5a4-3d3b38bdf6ee"
      },
      "execution_count": 61,
      "outputs": [
        {
          "output_type": "stream",
          "name": "stdout",
          "text": [
            "Number of clusters: 2, Silhouette score: 0.1586581915616989\n",
            "Number of clusters: 3, Silhouette score: 0.1044413223862648\n",
            "Number of clusters: 4, Silhouette score: 0.10736005753278732\n",
            "Number of clusters: 5, Silhouette score: 0.10601257532835007\n",
            "Number of clusters: 6, Silhouette score: 0.09856193512678146\n",
            "Number of clusters: 7, Silhouette score: 0.08997952193021774\n",
            "Number of clusters: 8, Silhouette score: 0.08044768869876862\n",
            "Number of clusters: 9, Silhouette score: 0.0800122395157814\n",
            "Number of clusters: 10, Silhouette score: 0.07784409821033478\n",
            "Number of clusters: 11, Silhouette score: 0.07685498893260956\n",
            "Number of clusters: 12, Silhouette score: 0.07422864437103271\n",
            "Number of clusters: 13, Silhouette score: 0.08227722346782684\n",
            "Number of clusters: 14, Silhouette score: 0.08302313834428787\n",
            "Number of clusters: 15, Silhouette score: 0.08406933397054672\n",
            "Number of clusters: 16, Silhouette score: 0.08382843434810638\n",
            "Number of clusters: 17, Silhouette score: 0.08284001052379608\n",
            "Number of clusters: 18, Silhouette score: 0.08014338463544846\n",
            "Number of clusters: 19, Silhouette score: 0.08815153688192368\n",
            "Number of clusters: 20, Silhouette score: 0.0912991613149643\n",
            "Optimal number of clusters: 2\n"
          ]
        }
      ]
    },
    {
      "cell_type": "markdown",
      "source": [
        "**Step 5: Train a Classifier Using the Dimensionality-Reduced Dataset**"
      ],
      "metadata": {
        "id": "UE9VOdGx_Yg7"
      }
    },
    {
      "cell_type": "code",
      "source": [
        "# Train the classifier on the reduced training set\n",
        "svm_clf.fit(X_train_reduced, y_train)\n",
        "\n",
        "val_accuracy = svm_clf.score(X_val_reduced, y_val)\n",
        "print(\"Validation accuracy on the reduced dataset:\", val_accuracy)\n"
      ],
      "metadata": {
        "colab": {
          "base_uri": "https://localhost:8080/"
        },
        "id": "uXXwihj-_oT2",
        "outputId": "ea8ec3ef-ceae-402c-80ec-a9d1f46ab0aa"
      },
      "execution_count": 62,
      "outputs": [
        {
          "output_type": "stream",
          "name": "stdout",
          "text": [
            "Validation accuracy on the reduced dataset: 0.275\n"
          ]
        }
      ]
    },
    {
      "cell_type": "markdown",
      "source": [
        "**Step 6: Apply DBSCAN for Clustering**"
      ],
      "metadata": {
        "id": "BQ5DzUdO_YeO"
      }
    },
    {
      "cell_type": "code",
      "source": [
        "from sklearn.decomposition import PCA\n",
        "from sklearn.cluster import DBSCAN\n",
        "\n",
        "pca = PCA(n_components=50, random_state=42)\n",
        "X_pca = pca.fit_transform(X_train)\n",
        "\n",
        "dbscan = DBSCAN(eps=0.5, min_samples=5, metric='euclidean', n_jobs=-1)\n",
        "dbscan.fit(X_pca)\n",
        "\n",
        "labels = dbscan.labels_\n",
        "n_clusters = len(set(labels)) - (1 if -1 in labels else 0)\n",
        "n_noise = list(labels).count(-1)\n",
        "\n",
        "print(f\"Number of clusters found by DBSCAN: {n_clusters}\")\n",
        "print(f\"Number of noise points found by DBSCAN: {n_noise}\")\n"
      ],
      "metadata": {
        "colab": {
          "base_uri": "https://localhost:8080/"
        },
        "id": "x0AZk-WT_ox4",
        "outputId": "314b68dd-664c-4739-da21-da5ae8d1300d"
      },
      "execution_count": 6,
      "outputs": [
        {
          "output_type": "stream",
          "name": "stdout",
          "text": [
            "Number of clusters found by DBSCAN: 0\n",
            "Number of noise points found by DBSCAN: 240\n"
          ]
        }
      ]
    },
    {
      "cell_type": "markdown",
      "source": [],
      "metadata": {
        "id": "1KOXMVssBJb9"
      }
    }
  ]
}